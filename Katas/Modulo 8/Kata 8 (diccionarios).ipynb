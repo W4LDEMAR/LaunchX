{
 "cells": [
  {
   "cell_type": "markdown",
   "metadata": {},
   "source": [
    "# Creacion de diccionarios\n",
    "Sosa Hernandez Saul Waldemar"
   ]
  },
  {
   "cell_type": "code",
   "execution_count": 5,
   "metadata": {},
   "outputs": [],
   "source": [
    "planet = {\n",
    "    \"nombre\": \"Marte\",\n",
    "    \"lunas\": 2\n",
    "}"
   ]
  },
  {
   "cell_type": "code",
   "execution_count": 12,
   "metadata": {},
   "outputs": [
    {
     "name": "stdout",
     "output_type": "stream",
     "text": [
      "Marte tiene un total de 2 lunas.\n"
     ]
    }
   ],
   "source": [
    "print(f\"\"\"{planet[\"nombre\"]} tiene un total de {planet[\"lunas\"]} lunas.\"\"\")"
   ]
  },
  {
   "cell_type": "markdown",
   "metadata": {},
   "source": [
    "Agregar un valor conun diccionario"
   ]
  },
  {
   "cell_type": "code",
   "execution_count": 13,
   "metadata": {},
   "outputs": [],
   "source": [
    "planet[\"circunferencia (km)\"] = {\n",
    "    \"polar\": 6752,\n",
    "    \"equatorial\": 6792\n",
    "}"
   ]
  },
  {
   "cell_type": "code",
   "execution_count": 15,
   "metadata": {},
   "outputs": [
    {
     "name": "stdout",
     "output_type": "stream",
     "text": [
      "Marte tiene una circunferencia polar de 6752\n"
     ]
    }
   ],
   "source": [
    "print(f\"\"\"{planet[\"nombre\"]} tiene una circunferencia polar de {planet[\"circunferencia (km)\"][\"polar\"]}\"\"\")"
   ]
  },
  {
   "cell_type": "markdown",
   "metadata": {},
   "source": [
    "## Dinamica con diccionarios"
   ]
  },
  {
   "cell_type": "code",
   "execution_count": 16,
   "metadata": {},
   "outputs": [],
   "source": [
    "planet_moons = {\n",
    "    'mercury': 0,\n",
    "    'venus': 0,\n",
    "    'earth': 1,\n",
    "    'mars': 2,\n",
    "    'jupiter': 79,\n",
    "    'saturn': 82,\n",
    "    'uranus': 27,\n",
    "    'neptune': 14,\n",
    "    'pluto': 5,\n",
    "    'haumea': 2,\n",
    "    'makemake': 1,\n",
    "    'eris': 1\n",
    "}"
   ]
  },
  {
   "cell_type": "code",
   "execution_count": 20,
   "metadata": {},
   "outputs": [
    {
     "name": "stdout",
     "output_type": "stream",
     "text": [
      "dict_values([0, 0, 1, 2, 79, 82, 27, 14, 5, 2, 1, 1])\n",
      "12\n"
     ]
    }
   ],
   "source": [
    "moons = planet_moons.values()\n",
    "planets = len(planet_moons.keys())\n",
    "\n",
    "print(moons)\n",
    "print(planets)"
   ]
  },
  {
   "cell_type": "code",
   "execution_count": 23,
   "metadata": {},
   "outputs": [
    {
     "name": "stdout",
     "output_type": "stream",
     "text": [
      "Hay un total de 214 entre todos los planetas.\n",
      " El promedio de lunas es de 17.833333333333332 por planeta.\n"
     ]
    }
   ],
   "source": [
    "# Contar el numero de lunas\n",
    "t_lunas = 0\n",
    "\n",
    "for lunas in moons:\n",
    "    t_lunas += lunas\n",
    "\n",
    "# Calculando el promedio de lunas\n",
    "p_lunas = t_lunas / planets\n",
    "\n",
    "# Resultados\n",
    "print(f\"Hay un total de {t_lunas} entre todos los planetas.\\n El promedio de lunas es de {p_lunas} por planeta.\")"
   ]
  }
 ],
 "metadata": {
  "interpreter": {
   "hash": "46df3066586a8539a35ce193587356866a9d25f4222c50e834c698fe9c541ee6"
  },
  "kernelspec": {
   "display_name": "Python 3.9.7 64-bit",
   "language": "python",
   "name": "python3"
  },
  "language_info": {
   "codemirror_mode": {
    "name": "ipython",
    "version": 3
   },
   "file_extension": ".py",
   "mimetype": "text/x-python",
   "name": "python",
   "nbconvert_exporter": "python",
   "pygments_lexer": "ipython3",
   "version": "3.9.7"
  },
  "orig_nbformat": 4
 },
 "nbformat": 4,
 "nbformat_minor": 2
}
