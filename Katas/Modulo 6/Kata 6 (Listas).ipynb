{
 "cells": [
  {
   "cell_type": "markdown",
   "metadata": {},
   "source": [
    "# Crear y usar listas de Python\n",
    "Sosa Hernandez Saul Waldemar"
   ]
  },
  {
   "cell_type": "code",
   "execution_count": 2,
   "metadata": {},
   "outputs": [],
   "source": [
    "planets = [\"Mercurio\", \"Venus\", \"Tierrra\", \"Marte\", \"Jupiter\", \"Saturno\", \"Urano\", \"Neptuno\"]"
   ]
  },
  {
   "cell_type": "markdown",
   "metadata": {},
   "source": [
    "Agregando Pluton a la lista"
   ]
  },
  {
   "cell_type": "code",
   "execution_count": 3,
   "metadata": {},
   "outputs": [
    {
     "name": "stdout",
     "output_type": "stream",
     "text": [
      "Son 9 en el sistema solar. El ultimo planeta de la lista es Pluton.\n"
     ]
    }
   ],
   "source": [
    "planets.append(\"Pluton\")\n",
    "\n",
    "print(f\"Son {len(planets)} en el sistema solar. El ultimo planeta de la lista es {planets[-1]}.\")"
   ]
  },
  {
   "cell_type": "markdown",
   "metadata": {},
   "source": [
    "## Ejercicio 2. Trabajando con datos de una lista"
   ]
  },
  {
   "cell_type": "code",
   "execution_count": 4,
   "metadata": {},
   "outputs": [],
   "source": [
    "planeta = input(\"Ingresa el nombre del planeta con inicial en mayuscula:\") # Jupiter"
   ]
  },
  {
   "cell_type": "markdown",
   "metadata": {},
   "source": [
    "Encuentra el planeta en la lista"
   ]
  },
  {
   "cell_type": "code",
   "execution_count": 5,
   "metadata": {},
   "outputs": [
    {
     "name": "stdout",
     "output_type": "stream",
     "text": [
      "4\n"
     ]
    }
   ],
   "source": [
    "lugar = planets.index(planeta)\n",
    "print(lugar) #Regresa el indice del planeta"
   ]
  },
  {
   "cell_type": "markdown",
   "metadata": {},
   "source": [
    "Muestra planetas mas cercanos al sol que el que eligio el usuario"
   ]
  },
  {
   "cell_type": "code",
   "execution_count": 6,
   "metadata": {},
   "outputs": [
    {
     "name": "stdout",
     "output_type": "stream",
     "text": [
      "Los planetas que estan antes de Jupiter son:\n",
      "['Mercurio', 'Venus', 'Tierrra', 'Marte']\n"
     ]
    }
   ],
   "source": [
    "print(f\"Los planetas que estan antes de {planeta} son:\\n{planets[:lugar]}\")"
   ]
  },
  {
   "cell_type": "markdown",
   "metadata": {},
   "source": [
    "Muestra planetas mas alejados al sol que el que eligio el usuario"
   ]
  },
  {
   "cell_type": "code",
   "execution_count": 9,
   "metadata": {},
   "outputs": [
    {
     "name": "stdout",
     "output_type": "stream",
     "text": [
      "Los planetas que estan despues de Jupiter son:\n",
      "['Saturno', 'Urano', 'Neptuno', 'Pluton']\n"
     ]
    }
   ],
   "source": [
    "print(f\"Los planetas que estan despues de {planeta} son:\\n{planets[1 + lugar:]}\")"
   ]
  }
 ],
 "metadata": {
  "interpreter": {
   "hash": "46df3066586a8539a35ce193587356866a9d25f4222c50e834c698fe9c541ee6"
  },
  "kernelspec": {
   "display_name": "Python 3.9.7 64-bit",
   "language": "python",
   "name": "python3"
  },
  "language_info": {
   "codemirror_mode": {
    "name": "ipython",
    "version": 3
   },
   "file_extension": ".py",
   "mimetype": "text/x-python",
   "name": "python",
   "nbconvert_exporter": "python",
   "pygments_lexer": "ipython3",
   "version": "3.9.7"
  },
  "orig_nbformat": 4
 },
 "nbformat": 4,
 "nbformat_minor": 2
}
