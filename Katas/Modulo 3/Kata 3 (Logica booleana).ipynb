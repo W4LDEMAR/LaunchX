{
 "cells": [
  {
   "cell_type": "markdown",
   "metadata": {},
   "source": [
    "# Logica booleana\n",
    "Sosa Hernandez Saul Waldemar"
   ]
  },
  {
   "cell_type": "code",
   "execution_count": 3,
   "metadata": {},
   "outputs": [
    {
     "name": "stdout",
     "output_type": "stream",
     "text": [
      "ADVERTENCIA, POSIBLE COLISION DE ASTEROIDE\n"
     ]
    }
   ],
   "source": [
    "# Ejercicio 1 (If, else, elif)\n",
    "\n",
    "v_asteroide = 49\n",
    "\n",
    "if v_asteroide > 25:\n",
    "    print(\"ADVERTENCIA, POSIBLE COLISION DE ASTEROIDE\")\n",
    "else:\n",
    "    pass\n"
   ]
  },
  {
   "cell_type": "code",
   "execution_count": 5,
   "metadata": {},
   "outputs": [
    {
     "name": "stdout",
     "output_type": "stream",
     "text": [
      "Posiblemente habra un cometa en el cielo!!\n"
     ]
    }
   ],
   "source": [
    "# Ejercicio 2 (If, else, elif)\n",
    "\n",
    "v_asteroide = 19\n",
    "\n",
    "if v_asteroide >= 20:\n",
    "    print(\"HAY UN COMETA EN EL CIELO!!\")\n",
    "elif v_asteroide > 17:\n",
    "    print(\"Posiblemente habra un cometa en el cielo!!\")\n",
    "else:\n",
    "    pass"
   ]
  },
  {
   "cell_type": "code",
   "execution_count": 12,
   "metadata": {},
   "outputs": [
    {
     "name": "stdout",
     "output_type": "stream",
     "text": [
      "Un dia como cualquiera\n"
     ]
    }
   ],
   "source": [
    "# Ejercicio 3 (Uso de operadores and y or)\n",
    "\n",
    "v_asteroide = 0\n",
    "d_asteroide = 0\n",
    "\n",
    "if d_asteroide > 1000:\n",
    "    print(\"ADVERTENCIA, POSIBLE FIN DEL MUNDO CERCA\")\n",
    "elif (d_asteroide > 25 and d_asteroide < 1000) or v_asteroide > 25:\n",
    "    print(\"ADVERTENCIA, POSIBLE COLISION DE ASTEROIDE INMINENTE\")\n",
    "elif v_asteroide >= 20:\n",
    "    print(\"HAY UN COMETA EN EL CIELO!!\")\n",
    "else:\n",
    "    print(\"Un dia como cualquiera\")"
   ]
  },
  {
   "cell_type": "code",
   "execution_count": 13,
   "metadata": {},
   "outputs": [
    {
     "name": "stdout",
     "output_type": "stream",
     "text": [
      "HAY UN COMETA EN EL CIELO!!\n"
     ]
    }
   ],
   "source": [
    "# Ejercicio 3.1 (Uso de operadores and y or)\n",
    "\n",
    "v_asteroide = 20\n",
    "d_asteroide = 19\n",
    "\n",
    "if d_asteroide > 1000:\n",
    "    print(\"ADVERTENCIA, POSIBLE FIN DEL MUNDO CERCA\")\n",
    "elif (d_asteroide > 25 and d_asteroide < 1000) or v_asteroide > 25:\n",
    "    print(\"ADVERTENCIA, POSIBLE COLISION DE ASTEROIDE INMINENTE\")\n",
    "elif v_asteroide >= 20:\n",
    "    print(\"HAY UN COMETA EN EL CIELO!!\")\n",
    "else:\n",
    "    print(\"Un dia como cualquiera\")"
   ]
  },
  {
   "cell_type": "code",
   "execution_count": 14,
   "metadata": {},
   "outputs": [
    {
     "name": "stdout",
     "output_type": "stream",
     "text": [
      "ADVERTENCIA, POSIBLE COLISION DE ASTEROIDE INMINENTE\n"
     ]
    }
   ],
   "source": [
    "# Ejercicio 3.2 (Uso de operadores and y or)\n",
    "\n",
    "v_asteroide = 50\n",
    "d_asteroide = 34\n",
    "\n",
    "if d_asteroide > 1000:\n",
    "    print(\"ADVERTENCIA, POSIBLE FIN DEL MUNDO CERCA\")\n",
    "elif (d_asteroide > 25 and d_asteroide < 1000) or v_asteroide > 25:\n",
    "    print(\"ADVERTENCIA, POSIBLE COLISION DE ASTEROIDE INMINENTE\")\n",
    "elif v_asteroide >= 20:\n",
    "    print(\"HAY UN COMETA EN EL CIELO!!\")\n",
    "else:\n",
    "    print(\"Un dia como cualquiera\")"
   ]
  },
  {
   "cell_type": "code",
   "execution_count": 15,
   "metadata": {},
   "outputs": [
    {
     "name": "stdout",
     "output_type": "stream",
     "text": [
      "ADVERTENCIA, POSIBLE FIN DEL MUNDO CERCA\n"
     ]
    }
   ],
   "source": [
    "# Ejercicio 3.3 (Uso de operadores and y or)\n",
    "\n",
    "v_asteroide = 19\n",
    "d_asteroide = 2000\n",
    "\n",
    "if d_asteroide > 1000:\n",
    "    print(\"ADVERTENCIA, POSIBLE FIN DEL MUNDO CERCA\")\n",
    "elif (d_asteroide > 25 and d_asteroide < 1000) or v_asteroide > 25:\n",
    "    print(\"ADVERTENCIA, POSIBLE COLISION DE ASTEROIDE INMINENTE\")\n",
    "elif v_asteroide >= 20:\n",
    "    print(\"HAY UN COMETA EN EL CIELO!!\")\n",
    "else:\n",
    "    print(\"Un dia como cualquiera\")"
   ]
  }
 ],
 "metadata": {
  "interpreter": {
   "hash": "46df3066586a8539a35ce193587356866a9d25f4222c50e834c698fe9c541ee6"
  },
  "kernelspec": {
   "display_name": "Python 3.9.7 64-bit",
   "language": "python",
   "name": "python3"
  },
  "language_info": {
   "codemirror_mode": {
    "name": "ipython",
    "version": 3
   },
   "file_extension": ".py",
   "mimetype": "text/x-python",
   "name": "python",
   "nbconvert_exporter": "python",
   "pygments_lexer": "ipython3",
   "version": "3.9.7"
  },
  "orig_nbformat": 4
 },
 "nbformat": 4,
 "nbformat_minor": 2
}
