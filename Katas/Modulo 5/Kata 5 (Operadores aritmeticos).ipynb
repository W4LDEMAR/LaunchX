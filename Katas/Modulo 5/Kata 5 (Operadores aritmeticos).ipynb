{
 "cells": [
  {
   "cell_type": "markdown",
   "metadata": {},
   "source": [
    "# Operadores aritmeticos\n",
    "Sosa Hernandez Saul Waldemar"
   ]
  },
  {
   "cell_type": "code",
   "execution_count": 2,
   "metadata": {},
   "outputs": [
    {
     "name": "stdout",
     "output_type": "stream",
     "text": [
      "La distancia entre los planetas es de 628949330 km, es decir, 390577533.93 millas.\n"
     ]
    }
   ],
   "source": [
    "# Distancia de los planetas al sol\n",
    "\n",
    "tierra = 149597870\n",
    "jupiter = 778547200\n",
    "\n",
    "distancia_km = abs(tierra - jupiter)\n",
    "distancia_mi = distancia_km * .621\n",
    "\n",
    "print(f\"La distancia entre los planetas es de {distancia_km} km, es decir, {distancia_mi} millas.\")\n"
   ]
  },
  {
   "cell_type": "markdown",
   "metadata": {},
   "source": [
    "Con entradas de usuario"
   ]
  },
  {
   "cell_type": "markdown",
   "metadata": {},
   "source": [
    "Usando la tabla de valores dada con Venus y Saturno"
   ]
  },
  {
   "cell_type": "code",
   "execution_count": 9,
   "metadata": {},
   "outputs": [
    {
     "name": "stdout",
     "output_type": "stream",
     "text": [
      "Distancia del primer planeta al sol: 108200000 \n",
      "Distancia del segundo planeta al sol: 1433500000\n",
      "La distancia entre los planetas es de 1325300000 km, es decir, 823011300.0 millas.\n"
     ]
    }
   ],
   "source": [
    "planeta1 = int(input(\"Inserta la distancia del primer planeta al sol\")) # Venus\n",
    "planeta2 = int(input(\"Inserta la distancia del segundo planeta al sol\")) # Saturno\n",
    "\n",
    "print(f\"Distancia del primer planeta al sol: {planeta1} \\n\\\n",
    "Distancia del segundo planeta al sol: {planeta2}\")\n",
    "\n",
    "distancia_km = abs(planeta1 - planeta2)\n",
    "distancia_mi = distancia_km * .621\n",
    "\n",
    "print(f\"La distancia entre los planetas es de {distancia_km} km, es decir, {distancia_mi} millas.\")"
   ]
  }
 ],
 "metadata": {
  "interpreter": {
   "hash": "46df3066586a8539a35ce193587356866a9d25f4222c50e834c698fe9c541ee6"
  },
  "kernelspec": {
   "display_name": "Python 3.9.7 64-bit",
   "language": "python",
   "name": "python3"
  },
  "language_info": {
   "codemirror_mode": {
    "name": "ipython",
    "version": 3
   },
   "file_extension": ".py",
   "mimetype": "text/x-python",
   "name": "python",
   "nbconvert_exporter": "python",
   "pygments_lexer": "ipython3",
   "version": "3.9.7"
  },
  "orig_nbformat": 4
 },
 "nbformat": 4,
 "nbformat_minor": 2
}
