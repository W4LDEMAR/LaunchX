{
 "cells": [
  {
   "cell_type": "markdown",
   "metadata": {},
   "source": [
    "# Funciones\n",
    "Sosa Hernandez Saul Waldemar"
   ]
  },
  {
   "cell_type": "code",
   "execution_count": 2,
   "metadata": {},
   "outputs": [
    {
     "name": "stdout",
     "output_type": "stream",
     "text": [
      "El tanque uno contiene 5\n",
      "El tanque dos contiene 7\n",
      "El tanque tres contiene 3\n",
      "Entonces el promedio de los tres tanques es de 5.0\n",
      "    \n"
     ]
    }
   ],
   "source": [
    "def informe(lec1, lec2, lec3):\n",
    "    promedio = (lec1 + lec2 + lec3) / 3\n",
    "    print(f\"\"\"El tanque uno contiene {lec1}\n",
    "El tanque dos contiene {lec2}\n",
    "El tanque tres contiene {lec3}\n",
    "Entonces el promedio de los tres tanques es de {promedio}\n",
    "    \"\"\")\n",
    "\n",
    "informe(5, 7, 3)"
   ]
  },
  {
   "cell_type": "code",
   "execution_count": 3,
   "metadata": {},
   "outputs": [
    {
     "name": "stdout",
     "output_type": "stream",
     "text": [
      "El tanque uno contiene 5\n",
      "El tanque dos contiene 7\n",
      "El tanque tres contiene 3\n",
      "Entonces el promedio de los tres tanques es de 5.0\n",
      "    \n"
     ]
    }
   ],
   "source": [
    "def informe(lec1, lec2, lec3):\n",
    "    print(f\"\"\"El tanque uno contiene {lec1}\n",
    "El tanque dos contiene {lec2}\n",
    "El tanque tres contiene {lec3}\n",
    "Entonces el promedio de los tres tanques es de {promedio(lec1, lec2, lec3)}\n",
    "    \"\"\")\n",
    "\n",
    "def promedio(lec1, lec2, lec3):\n",
    "    suma = lec1 + lec2 + lec3\n",
    "    return suma / 3\n",
    "\n",
    "informe(5, 7, 3)"
   ]
  },
  {
   "cell_type": "markdown",
   "metadata": {},
   "source": [
    "Argumentos palabra clave"
   ]
  },
  {
   "cell_type": "code",
   "execution_count": 5,
   "metadata": {},
   "outputs": [
    {
     "name": "stdout",
     "output_type": "stream",
     "text": [
      "Cohete con destino a Marte\n",
      "El viaje tendra una duracion de 20 horas con un predespegue de 10 segundos.\n",
      "Su combustible interno consta de 1500 litros mientras que el externo sera de 2000 litros.\n",
      "    \n"
     ]
    }
   ],
   "source": [
    "def reporte(t_predes, t_destino, combustible_ext, combustible_int, n_destino):\n",
    "    print(f\"\"\"Cohete con destino a {n_destino}\n",
    "El viaje tendra una duracion de {t_destino} horas con un predespegue de {t_predes} segundos.\n",
    "Su combustible interno consta de {combustible_int} litros mientras que el externo sera de {combustible_ext} litros.\n",
    "    \"\"\")\n",
    "\n",
    "reporte(10, 20, 2000, 1500, \"Marte\")"
   ]
  },
  {
   "cell_type": "code",
   "execution_count": 7,
   "metadata": {},
   "outputs": [
    {
     "name": "stdout",
     "output_type": "stream",
     "text": [
      "Cohete con destino a Marte\n",
      "El viaje tendra una duracion total de 90 minutos.\n",
      "cuenta con 3500 litros de combustible.\n",
      "    \n"
     ]
    }
   ],
   "source": [
    "\n",
    "def reporte(n_destino, *t_viaje, **combustible):\n",
    "    print(f\"\"\"Cohete con destino a {n_destino}\n",
    "El viaje tendra una duracion total de {sum(t_viaje)} minutos.\n",
    "cuenta con {sum(combustible.values())} litros de combustible.\n",
    "    \"\"\")\n",
    "\n",
    "reporte(\"Marte\", 20, 70, interno = 1500, externo = 2000)"
   ]
  },
  {
   "cell_type": "code",
   "execution_count": 8,
   "metadata": {},
   "outputs": [
    {
     "name": "stdout",
     "output_type": "stream",
     "text": [
      "Cohete con destino a Marte\n",
      "El viaje tendra una duracion total de 105 minutos.\n",
      "cuenta con 3500 litros de combustible.\n",
      "    \n",
      "El tanque interno tiene 1500 litros\n",
      "El tanque externo tiene 2000 litros\n"
     ]
    }
   ],
   "source": [
    "\n",
    "def reporte(n_destino, *t_viaje, **combustible):\n",
    "    print(f\"\"\"Cohete con destino a {n_destino}\n",
    "El viaje tendra una duracion total de {sum(t_viaje)} minutos.\n",
    "cuenta con {sum(combustible.values())} litros de combustible.\n",
    "    \"\"\")\n",
    "    for x, y in combustible.items():\n",
    "        print(f\"El tanque {x} tiene {y} litros\")\n",
    "\n",
    "reporte(\"Marte\", 20, 15, 70, interno = 1500, externo = 2000)"
   ]
  },
  {
   "cell_type": "markdown",
   "metadata": {},
   "source": [
    "## Solucion mejorada al ejercicio 1.3\n",
    "(Sacada de las soluciones del modulo 9)"
   ]
  },
  {
   "cell_type": "code",
   "execution_count": 10,
   "metadata": {},
   "outputs": [
    {
     "name": "stdout",
     "output_type": "stream",
     "text": [
      "Fuel Report:\n",
      "    Total Average: 78.0%\n",
      "    Main tank: 88%\n",
      "    External tank: 76%\n",
      "    Hydrogen tank: 70%\n"
     ]
    }
   ],
   "source": [
    "# Toma los parametros del promedio como si fuera una lista y ahorrarse el escribir todos los parametros de nuevo\n",
    "\n",
    "def generate_report(main_tank, external_tank, hydrogen_tank):\n",
    "    return f\"\"\"Fuel Report:\n",
    "    Total Average: {average([main_tank, external_tank, hydrogen_tank])}%\n",
    "    Main tank: {main_tank}%\n",
    "    External tank: {external_tank}%\n",
    "    Hydrogen tank: {hydrogen_tank}%\"\"\"\n",
    "\n",
    "def average(values):\n",
    "    total = sum(values)\n",
    "    number_of_items = len(values)\n",
    "    return total / number_of_items\n",
    "\n",
    "print(generate_report(88, 76, 70))"
   ]
  }
 ],
 "metadata": {
  "interpreter": {
   "hash": "46df3066586a8539a35ce193587356866a9d25f4222c50e834c698fe9c541ee6"
  },
  "kernelspec": {
   "display_name": "Python 3.9.7 64-bit",
   "language": "python",
   "name": "python3"
  },
  "language_info": {
   "codemirror_mode": {
    "name": "ipython",
    "version": 3
   },
   "file_extension": ".py",
   "mimetype": "text/x-python",
   "name": "python",
   "nbconvert_exporter": "python",
   "pygments_lexer": "ipython3",
   "version": "3.9.7"
  },
  "orig_nbformat": 4
 },
 "nbformat": 4,
 "nbformat_minor": 2
}
